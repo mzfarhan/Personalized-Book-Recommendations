{
  "nbformat": 4,
  "nbformat_minor": 0,
  "metadata": {
    "colab": {
      "provenance": []
    },
    "kernelspec": {
      "name": "python3",
      "display_name": "Python 3"
    },
    "language_info": {
      "name": "python"
    }
  },
  "cells": [
    {
      "cell_type": "markdown",
      "source": [
        "# Ratings"
      ],
      "metadata": {
        "id": "H3rCwmozN7du"
      }
    },
    {
      "cell_type": "code",
      "source": [
        "import pandas as pd\n",
        "\n",
        "# Load the dataset\n",
        "try:\n",
        "    ratings_df = pd.read_csv('Ratings.csv')\n",
        "except FileNotFoundError:\n",
        "    print(\"Error: 'Ratings.csv' not found. Please upload the file.\")\n",
        "    exit()\n",
        "\n",
        "# Check data types of each column\n",
        "print(\"Data types of each column:\")\n",
        "print(ratings_df.dtypes)\n",
        "print(\"\\n\" + \"=\"*30 + \"\\n\")\n",
        "\n",
        "# Calculate the percentage of null values for each column\n",
        "null_percentages = ratings_df.isnull().sum() / len(ratings_df) * 100\n",
        "print(\"Percentage of null values for each column:\")\n",
        "null_percentages\n"
      ],
      "metadata": {
        "colab": {
          "base_uri": "https://localhost:8080/",
          "height": 334
        },
        "id": "bAaXYe56N-Wf",
        "outputId": "2baea607-30fa-4e19-fb9a-b8fbcd464765"
      },
      "execution_count": null,
      "outputs": [
        {
          "output_type": "stream",
          "name": "stdout",
          "text": [
            "Data types of each column:\n",
            "User-ID         int64\n",
            "ISBN           object\n",
            "Book-Rating     int64\n",
            "dtype: object\n",
            "\n",
            "==============================\n",
            "\n",
            "Percentage of null values for each column:\n"
          ]
        },
        {
          "output_type": "execute_result",
          "data": {
            "text/plain": [
              "User-ID        0.0\n",
              "ISBN           0.0\n",
              "Book-Rating    0.0\n",
              "dtype: float64"
            ],
            "text/html": [
              "<div>\n",
              "<style scoped>\n",
              "    .dataframe tbody tr th:only-of-type {\n",
              "        vertical-align: middle;\n",
              "    }\n",
              "\n",
              "    .dataframe tbody tr th {\n",
              "        vertical-align: top;\n",
              "    }\n",
              "\n",
              "    .dataframe thead th {\n",
              "        text-align: right;\n",
              "    }\n",
              "</style>\n",
              "<table border=\"1\" class=\"dataframe\">\n",
              "  <thead>\n",
              "    <tr style=\"text-align: right;\">\n",
              "      <th></th>\n",
              "      <th>0</th>\n",
              "    </tr>\n",
              "  </thead>\n",
              "  <tbody>\n",
              "    <tr>\n",
              "      <th>User-ID</th>\n",
              "      <td>0.0</td>\n",
              "    </tr>\n",
              "    <tr>\n",
              "      <th>ISBN</th>\n",
              "      <td>0.0</td>\n",
              "    </tr>\n",
              "    <tr>\n",
              "      <th>Book-Rating</th>\n",
              "      <td>0.0</td>\n",
              "    </tr>\n",
              "  </tbody>\n",
              "</table>\n",
              "</div><br><label><b>dtype:</b> float64</label>"
            ]
          },
          "metadata": {},
          "execution_count": 19
        }
      ]
    },
    {
      "cell_type": "markdown",
      "source": [
        "# Books"
      ],
      "metadata": {
        "id": "q-c3crp3OJCA"
      }
    },
    {
      "cell_type": "code",
      "source": [
        "# Load the dataset\n",
        "try:\n",
        "    books_df = pd.read_csv('Books.csv')\n",
        "except FileNotFoundError:\n",
        "    print(\"Error: 'Books.csv' not found. Please upload the file.\")\n",
        "    exit()\n",
        "\n",
        "# Check data types of each column\n",
        "print(\"Data types of each column:\")\n",
        "print(books_df.dtypes)\n",
        "print(\"\\n\" + \"=\"*30 + \"\\n\")\n",
        "\n",
        "# Calculate the percentage of null values for each column\n",
        "null_percentages = books_df.isnull().sum() / len(books_df) * 100\n",
        "print(\"Percentage of null values for each column:\")\n",
        "null_percentages"
      ],
      "metadata": {
        "colab": {
          "base_uri": "https://localhost:8080/",
          "height": 632
        },
        "id": "slHtRer-OL8X",
        "outputId": "ceb71374-20fb-4cb4-b81a-ae67fe147bd1"
      },
      "execution_count": null,
      "outputs": [
        {
          "output_type": "stream",
          "name": "stdout",
          "text": [
            "Data types of each column:\n",
            "ISBN                   object\n",
            "Book-Title             object\n",
            "Book-Author            object\n",
            "Year-Of-Publication    object\n",
            "Publisher              object\n",
            "Image-URL-S            object\n",
            "Image-URL-M            object\n",
            "Image-URL-L            object\n",
            "dtype: object\n",
            "\n",
            "==============================\n",
            "\n",
            "Percentage of null values for each column:\n"
          ]
        },
        {
          "output_type": "stream",
          "name": "stderr",
          "text": [
            "/tmp/ipython-input-20-207383194.py:5: DtypeWarning: Columns (3) have mixed types. Specify dtype option on import or set low_memory=False.\n",
            "  books_df = pd.read_csv('Books.csv')\n"
          ]
        },
        {
          "output_type": "execute_result",
          "data": {
            "text/plain": [
              "ISBN                   0.000000\n",
              "Book-Title             0.000000\n",
              "Book-Author            0.000737\n",
              "Year-Of-Publication    0.000000\n",
              "Publisher              0.000737\n",
              "Image-URL-S            0.000000\n",
              "Image-URL-M            0.000000\n",
              "Image-URL-L            0.001106\n",
              "dtype: float64"
            ],
            "text/html": [
              "<div>\n",
              "<style scoped>\n",
              "    .dataframe tbody tr th:only-of-type {\n",
              "        vertical-align: middle;\n",
              "    }\n",
              "\n",
              "    .dataframe tbody tr th {\n",
              "        vertical-align: top;\n",
              "    }\n",
              "\n",
              "    .dataframe thead th {\n",
              "        text-align: right;\n",
              "    }\n",
              "</style>\n",
              "<table border=\"1\" class=\"dataframe\">\n",
              "  <thead>\n",
              "    <tr style=\"text-align: right;\">\n",
              "      <th></th>\n",
              "      <th>0</th>\n",
              "    </tr>\n",
              "  </thead>\n",
              "  <tbody>\n",
              "    <tr>\n",
              "      <th>ISBN</th>\n",
              "      <td>0.000000</td>\n",
              "    </tr>\n",
              "    <tr>\n",
              "      <th>Book-Title</th>\n",
              "      <td>0.000000</td>\n",
              "    </tr>\n",
              "    <tr>\n",
              "      <th>Book-Author</th>\n",
              "      <td>0.000737</td>\n",
              "    </tr>\n",
              "    <tr>\n",
              "      <th>Year-Of-Publication</th>\n",
              "      <td>0.000000</td>\n",
              "    </tr>\n",
              "    <tr>\n",
              "      <th>Publisher</th>\n",
              "      <td>0.000737</td>\n",
              "    </tr>\n",
              "    <tr>\n",
              "      <th>Image-URL-S</th>\n",
              "      <td>0.000000</td>\n",
              "    </tr>\n",
              "    <tr>\n",
              "      <th>Image-URL-M</th>\n",
              "      <td>0.000000</td>\n",
              "    </tr>\n",
              "    <tr>\n",
              "      <th>Image-URL-L</th>\n",
              "      <td>0.001106</td>\n",
              "    </tr>\n",
              "  </tbody>\n",
              "</table>\n",
              "</div><br><label><b>dtype:</b> float64</label>"
            ]
          },
          "metadata": {},
          "execution_count": 20
        }
      ]
    },
    {
      "cell_type": "code",
      "source": [
        "# Replace null values with 'unknown'\n",
        "books_df = books_df.fillna('unknown')\n",
        "\n",
        "# Convert specified columns to lowercase\n",
        "columns_to_lowercase = ['Book-Title', 'Book-Author', 'Publisher']\n",
        "for col in columns_to_lowercase:\n",
        "  books_df[col] = books_df[col].str.lower()\n",
        "\n",
        "# Drop specified columns\n",
        "columns_to_drop = ['Image-URL-S', 'Image-URL-M', 'Image-URL-L']\n",
        "books_df = books_df.drop(columns=columns_to_drop)\n",
        "\n",
        "# Display the first few rows of the preprocessed dataframe\n",
        "print(\"\\nPreprocessed Books DataFrame:\")\n",
        "print(books_df.head())\n",
        "\n",
        "# Download the preprocessed dataframe\n",
        "books_df.to_csv('preprocessed_Books.csv', index=False)\n",
        "\n",
        "from google.colab import files\n",
        "files.download('preprocessed_Books.csv')\n"
      ],
      "metadata": {
        "colab": {
          "base_uri": "https://localhost:8080/",
          "height": 277
        },
        "id": "qakaSLjcQETY",
        "outputId": "c304d16f-91b6-4c5c-a65c-4621dbd3408d"
      },
      "execution_count": null,
      "outputs": [
        {
          "output_type": "stream",
          "name": "stdout",
          "text": [
            "\n",
            "Preprocessed Books DataFrame:\n",
            "         ISBN                                         Book-Title  \\\n",
            "0  0195153448                                classical mythology   \n",
            "1  0002005018                                       clara callan   \n",
            "2  0060973129                               decision in normandy   \n",
            "3  0374157065  flu: the story of the great influenza pandemic...   \n",
            "4  0393045218                             the mummies of urumchi   \n",
            "\n",
            "            Book-Author Year-Of-Publication                   Publisher  \n",
            "0    mark p. o. morford                2002     oxford university press  \n",
            "1  richard bruce wright                2001       harperflamingo canada  \n",
            "2          carlo d'este                1991             harperperennial  \n",
            "3      gina bari kolata                1999        farrar straus giroux  \n",
            "4       e. j. w. barber                1999  w. w. norton &amp; company  \n"
          ]
        },
        {
          "output_type": "display_data",
          "data": {
            "text/plain": [
              "<IPython.core.display.Javascript object>"
            ],
            "application/javascript": [
              "\n",
              "    async function download(id, filename, size) {\n",
              "      if (!google.colab.kernel.accessAllowed) {\n",
              "        return;\n",
              "      }\n",
              "      const div = document.createElement('div');\n",
              "      const label = document.createElement('label');\n",
              "      label.textContent = `Downloading \"${filename}\": `;\n",
              "      div.appendChild(label);\n",
              "      const progress = document.createElement('progress');\n",
              "      progress.max = size;\n",
              "      div.appendChild(progress);\n",
              "      document.body.appendChild(div);\n",
              "\n",
              "      const buffers = [];\n",
              "      let downloaded = 0;\n",
              "\n",
              "      const channel = await google.colab.kernel.comms.open(id);\n",
              "      // Send a message to notify the kernel that we're ready.\n",
              "      channel.send({})\n",
              "\n",
              "      for await (const message of channel.messages) {\n",
              "        // Send a message to notify the kernel that we're ready.\n",
              "        channel.send({})\n",
              "        if (message.buffers) {\n",
              "          for (const buffer of message.buffers) {\n",
              "            buffers.push(buffer);\n",
              "            downloaded += buffer.byteLength;\n",
              "            progress.value = downloaded;\n",
              "          }\n",
              "        }\n",
              "      }\n",
              "      const blob = new Blob(buffers, {type: 'application/binary'});\n",
              "      const a = document.createElement('a');\n",
              "      a.href = window.URL.createObjectURL(blob);\n",
              "      a.download = filename;\n",
              "      div.appendChild(a);\n",
              "      a.click();\n",
              "      div.remove();\n",
              "    }\n",
              "  "
            ]
          },
          "metadata": {}
        },
        {
          "output_type": "display_data",
          "data": {
            "text/plain": [
              "<IPython.core.display.Javascript object>"
            ],
            "application/javascript": [
              "download(\"download_03094279-e491-46e2-9c9e-1bf7052b4807\", \"preprocessed_Books.csv\", 23634923)"
            ]
          },
          "metadata": {}
        }
      ]
    },
    {
      "cell_type": "markdown",
      "source": [
        "# Users"
      ],
      "metadata": {
        "id": "9TLLS4EAN4KP"
      }
    },
    {
      "cell_type": "code",
      "execution_count": null,
      "metadata": {
        "colab": {
          "base_uri": "https://localhost:8080/",
          "height": 334
        },
        "id": "p9YUPVi154I9",
        "outputId": "4ad8a570-3052-4c78-8491-a975448521c0"
      },
      "outputs": [
        {
          "output_type": "stream",
          "name": "stdout",
          "text": [
            "Data types of each column:\n",
            "User-ID       int64\n",
            "Location     object\n",
            "Age         float64\n",
            "dtype: object\n",
            "\n",
            "==============================\n",
            "\n",
            "Percentage of null values for each column:\n"
          ]
        },
        {
          "output_type": "execute_result",
          "data": {
            "text/plain": [
              "User-ID      0.000000\n",
              "Location     0.000000\n",
              "Age         39.719857\n",
              "dtype: float64"
            ],
            "text/html": [
              "<div>\n",
              "<style scoped>\n",
              "    .dataframe tbody tr th:only-of-type {\n",
              "        vertical-align: middle;\n",
              "    }\n",
              "\n",
              "    .dataframe tbody tr th {\n",
              "        vertical-align: top;\n",
              "    }\n",
              "\n",
              "    .dataframe thead th {\n",
              "        text-align: right;\n",
              "    }\n",
              "</style>\n",
              "<table border=\"1\" class=\"dataframe\">\n",
              "  <thead>\n",
              "    <tr style=\"text-align: right;\">\n",
              "      <th></th>\n",
              "      <th>0</th>\n",
              "    </tr>\n",
              "  </thead>\n",
              "  <tbody>\n",
              "    <tr>\n",
              "      <th>User-ID</th>\n",
              "      <td>0.000000</td>\n",
              "    </tr>\n",
              "    <tr>\n",
              "      <th>Location</th>\n",
              "      <td>0.000000</td>\n",
              "    </tr>\n",
              "    <tr>\n",
              "      <th>Age</th>\n",
              "      <td>39.719857</td>\n",
              "    </tr>\n",
              "  </tbody>\n",
              "</table>\n",
              "</div><br><label><b>dtype:</b> float64</label>"
            ]
          },
          "metadata": {},
          "execution_count": 23
        }
      ],
      "source": [
        "# Load the dataset\n",
        "try:\n",
        "    users_df = pd.read_csv('Users.csv')\n",
        "except FileNotFoundError:\n",
        "    print(\"Error: 'Users.csv' not found. Please upload the file.\")\n",
        "    exit()\n",
        "\n",
        "# Check data types of each column\n",
        "print(\"Data types of each column:\")\n",
        "print(users_df.dtypes)\n",
        "print(\"\\n\" + \"=\"*30 + \"\\n\")\n",
        "\n",
        "# Calculate the percentage of null values for each column\n",
        "null_percentages = users_df.isnull().sum() / len(users_df) * 100\n",
        "print(\"Percentage of null values for each column:\")\n",
        "null_percentages"
      ]
    },
    {
      "cell_type": "code",
      "source": [
        "!pip install pycountry"
      ],
      "metadata": {
        "colab": {
          "base_uri": "https://localhost:8080/"
        },
        "id": "byItKQpymS5y",
        "outputId": "047af267-85b6-4e2a-c25d-1c90f4de79fc"
      },
      "execution_count": null,
      "outputs": [
        {
          "output_type": "stream",
          "name": "stdout",
          "text": [
            "Collecting pycountry\n",
            "  Downloading pycountry-24.6.1-py3-none-any.whl.metadata (12 kB)\n",
            "Downloading pycountry-24.6.1-py3-none-any.whl (6.3 MB)\n",
            "\u001b[2K   \u001b[90m━━━━━━━━━━━━━━━━━━━━━━━━━━━━━━━━━━━━━━━━\u001b[0m \u001b[32m6.3/6.3 MB\u001b[0m \u001b[31m62.1 MB/s\u001b[0m eta \u001b[36m0:00:00\u001b[0m\n",
            "\u001b[?25hInstalling collected packages: pycountry\n",
            "Successfully installed pycountry-24.6.1\n"
          ]
        }
      ]
    },
    {
      "cell_type": "code",
      "source": [
        "import pycountry\n",
        "\n",
        "# Fill null values in 'Age' with 0 and convert to int\n",
        "users_df['Age'] = users_df['Age'].fillna(0).astype(int)\n",
        "\n",
        "# Extract Country from Location\n",
        "def extract_country(location):\n",
        "    if pd.isnull(location):\n",
        "        return 'unknown'\n",
        "    parts = [part.strip() for part in location.split(',')]\n",
        "    for part in reversed(parts): # Start from the end, as country is often the last part\n",
        "        try:\n",
        "            country = pycountry.countries.search_fuzzy(part)\n",
        "            if country:\n",
        "                return country[0].name.lower()\n",
        "        except LookupError:\n",
        "            continue\n",
        "    return 'unknown'\n",
        "\n",
        "users_df['Country'] = users_df['Location'].apply(extract_country)\n",
        "\n",
        "# Drop the original Location column\n",
        "users_df = users_df.drop(columns=['Location'])\n",
        "\n",
        "# Display the first few rows of the preprocessed dataframe\n",
        "print(\"\\nPreprocessed Users DataFrame:\")\n",
        "print(users_df.head())\n",
        "\n",
        "# Download the preprocessed dataframe\n",
        "users_df.to_csv('preprocessed_Users.csv', index=False)\n",
        "\n",
        "files.download('preprocessed_Users.csv')\n"
      ],
      "metadata": {
        "colab": {
          "base_uri": "https://localhost:8080/",
          "height": 156
        },
        "id": "kHzurgYDg6db",
        "outputId": "80e81eb8-5c15-49f1-a03d-c6997055255c"
      },
      "execution_count": null,
      "outputs": [
        {
          "output_type": "stream",
          "name": "stdout",
          "text": [
            "\n",
            "Preprocessed Users DataFrame:\n",
            "   User-ID  Age             Country\n",
            "0        1    0       united states\n",
            "1        2   18       united states\n",
            "2        3    0  russian federation\n",
            "3        4   17            portugal\n",
            "4        5    0      united kingdom\n"
          ]
        },
        {
          "output_type": "display_data",
          "data": {
            "text/plain": [
              "<IPython.core.display.Javascript object>"
            ],
            "application/javascript": [
              "\n",
              "    async function download(id, filename, size) {\n",
              "      if (!google.colab.kernel.accessAllowed) {\n",
              "        return;\n",
              "      }\n",
              "      const div = document.createElement('div');\n",
              "      const label = document.createElement('label');\n",
              "      label.textContent = `Downloading \"${filename}\": `;\n",
              "      div.appendChild(label);\n",
              "      const progress = document.createElement('progress');\n",
              "      progress.max = size;\n",
              "      div.appendChild(progress);\n",
              "      document.body.appendChild(div);\n",
              "\n",
              "      const buffers = [];\n",
              "      let downloaded = 0;\n",
              "\n",
              "      const channel = await google.colab.kernel.comms.open(id);\n",
              "      // Send a message to notify the kernel that we're ready.\n",
              "      channel.send({})\n",
              "\n",
              "      for await (const message of channel.messages) {\n",
              "        // Send a message to notify the kernel that we're ready.\n",
              "        channel.send({})\n",
              "        if (message.buffers) {\n",
              "          for (const buffer of message.buffers) {\n",
              "            buffers.push(buffer);\n",
              "            downloaded += buffer.byteLength;\n",
              "            progress.value = downloaded;\n",
              "          }\n",
              "        }\n",
              "      }\n",
              "      const blob = new Blob(buffers, {type: 'application/binary'});\n",
              "      const a = document.createElement('a');\n",
              "      a.href = window.URL.createObjectURL(blob);\n",
              "      a.download = filename;\n",
              "      div.appendChild(a);\n",
              "      a.click();\n",
              "      div.remove();\n",
              "    }\n",
              "  "
            ]
          },
          "metadata": {}
        },
        {
          "output_type": "display_data",
          "data": {
            "text/plain": [
              "<IPython.core.display.Javascript object>"
            ],
            "application/javascript": [
              "download(\"download_b0adbdb8-1c9b-40d3-9507-74a56b7622db\", \"preprocessed_Users.csv\", 5809898)"
            ]
          },
          "metadata": {}
        }
      ]
    },
    {
      "cell_type": "markdown",
      "source": [
        "# Preprocessing lanjutan"
      ],
      "metadata": {
        "id": "gClUu_FX_D_a"
      }
    },
    {
      "cell_type": "code",
      "source": [
        "import re\n",
        "import pandas as pd\n",
        "\n",
        "# Load the datasets\n",
        "try:\n",
        "    ratings_df = pd.read_csv('Ratings.csv')\n",
        "    books_df = pd.read_csv('Books.csv')\n",
        "    users_df = pd.read_csv('Users.csv')\n",
        "except FileNotFoundError:\n",
        "    print(\"Error: One or more CSV files not found. Please upload the files.\")\n",
        "    exit()\n",
        "\n",
        "\n",
        "# Function to clean column names\n",
        "def clean_col_names(df):\n",
        "  cols = df.columns\n",
        "  new_cols = []\n",
        "  for col in cols:\n",
        "    # Convert to lowercase\n",
        "    new_col = col.lower()\n",
        "    # Remove non-alphanumeric characters (except underscores, if you want to keep them)\n",
        "    new_col = re.sub(r'[^a-z0-9_]+', '', new_col)\n",
        "    new_cols.append(new_col)\n",
        "  df.columns = new_cols\n",
        "  return df\n",
        "\n",
        "# Clean column names for each dataframe\n",
        "ratings_df = clean_col_names(ratings_df)\n",
        "books_df = clean_col_names(books_df)\n",
        "users_df = clean_col_names(users_df)\n",
        "\n",
        "# Display the first few rows with new column names\n",
        "print(\"\\nRatings DataFrame with cleaned column names:\")\n",
        "print(ratings_df.head())\n",
        "print(\"\\nBooks DataFrame with cleaned column names:\")\n",
        "print(books_df.head())\n",
        "print(\"\\nUsers DataFrame with cleaned column names:\")\n",
        "print(users_df.head())\n",
        "\n",
        "# Download the dataframes with cleaned column names\n",
        "ratings_df.to_csv('cleaned_Ratings.csv', index=False)\n",
        "books_df.to_csv('cleaned_Books.csv', index=False)\n",
        "users_df.to_csv('cleaned_Users.csv', index=False)\n",
        "\n",
        "from google.colab import files\n",
        "files.download('cleaned_Ratings.csv')\n",
        "files.download('cleaned_Books.csv')\n",
        "files.download('cleaned_Users.csv')"
      ],
      "metadata": {
        "colab": {
          "base_uri": "https://localhost:8080/",
          "height": 624
        },
        "id": "wwNaS9C5qnU6",
        "outputId": "7fe241b6-1ee6-46d8-8d66-4ec0777eb9cf"
      },
      "execution_count": null,
      "outputs": [
        {
          "output_type": "stream",
          "name": "stdout",
          "text": [
            "Error: One or more CSV files not found. Please upload the files.\n",
            "\n",
            "Ratings DataFrame with cleaned column names:\n",
            "   userid        isbn  bookrating\n",
            "0  276725  034545104X           0\n",
            "1  276726  0155061224           5\n",
            "2  276727  0446520802           0\n",
            "3  276729  052165615X           3\n",
            "4  276729  0521795028           6\n",
            "\n",
            "Books DataFrame with cleaned column names:\n",
            "         isbn                                          booktitle  \\\n",
            "0  0195153448                                classical mythology   \n",
            "1  0002005018                                       clara callan   \n",
            "2  0060973129                               decision in normandy   \n",
            "3  0374157065  flu: the story of the great influenza pandemic...   \n",
            "4  0393045218                             the mummies of urumchi   \n",
            "\n",
            "             bookauthor yearofpublication                   publisher  \n",
            "0    mark p. o. morford              2002     oxford university press  \n",
            "1  richard bruce wright              2001       harperflamingo canada  \n",
            "2          carlo d'este              1991             harperperennial  \n",
            "3      gina bari kolata              1999        farrar straus giroux  \n",
            "4       e. j. w. barber              1999  w. w. norton &amp; company  \n",
            "\n",
            "Users DataFrame with cleaned column names:\n",
            "   userid  age             country  number\n",
            "0       1    0       united states       0\n",
            "1       2   18       united states       0\n",
            "2       3    0  russian federation       0\n",
            "3       4   17            portugal       0\n",
            "4       5    0      united kingdom       0\n"
          ]
        },
        {
          "output_type": "display_data",
          "data": {
            "text/plain": [
              "<IPython.core.display.Javascript object>"
            ],
            "application/javascript": [
              "\n",
              "    async function download(id, filename, size) {\n",
              "      if (!google.colab.kernel.accessAllowed) {\n",
              "        return;\n",
              "      }\n",
              "      const div = document.createElement('div');\n",
              "      const label = document.createElement('label');\n",
              "      label.textContent = `Downloading \"${filename}\": `;\n",
              "      div.appendChild(label);\n",
              "      const progress = document.createElement('progress');\n",
              "      progress.max = size;\n",
              "      div.appendChild(progress);\n",
              "      document.body.appendChild(div);\n",
              "\n",
              "      const buffers = [];\n",
              "      let downloaded = 0;\n",
              "\n",
              "      const channel = await google.colab.kernel.comms.open(id);\n",
              "      // Send a message to notify the kernel that we're ready.\n",
              "      channel.send({})\n",
              "\n",
              "      for await (const message of channel.messages) {\n",
              "        // Send a message to notify the kernel that we're ready.\n",
              "        channel.send({})\n",
              "        if (message.buffers) {\n",
              "          for (const buffer of message.buffers) {\n",
              "            buffers.push(buffer);\n",
              "            downloaded += buffer.byteLength;\n",
              "            progress.value = downloaded;\n",
              "          }\n",
              "        }\n",
              "      }\n",
              "      const blob = new Blob(buffers, {type: 'application/binary'});\n",
              "      const a = document.createElement('a');\n",
              "      a.href = window.URL.createObjectURL(blob);\n",
              "      a.download = filename;\n",
              "      div.appendChild(a);\n",
              "      a.click();\n",
              "      div.remove();\n",
              "    }\n",
              "  "
            ]
          },
          "metadata": {}
        },
        {
          "output_type": "display_data",
          "data": {
            "text/plain": [
              "<IPython.core.display.Javascript object>"
            ],
            "application/javascript": [
              "download(\"download_7c294215-c58c-4af0-9c28-4e324fd7e849\", \"cleaned_Ratings.csv\", 22633890)"
            ]
          },
          "metadata": {}
        },
        {
          "output_type": "display_data",
          "data": {
            "text/plain": [
              "<IPython.core.display.Javascript object>"
            ],
            "application/javascript": [
              "\n",
              "    async function download(id, filename, size) {\n",
              "      if (!google.colab.kernel.accessAllowed) {\n",
              "        return;\n",
              "      }\n",
              "      const div = document.createElement('div');\n",
              "      const label = document.createElement('label');\n",
              "      label.textContent = `Downloading \"${filename}\": `;\n",
              "      div.appendChild(label);\n",
              "      const progress = document.createElement('progress');\n",
              "      progress.max = size;\n",
              "      div.appendChild(progress);\n",
              "      document.body.appendChild(div);\n",
              "\n",
              "      const buffers = [];\n",
              "      let downloaded = 0;\n",
              "\n",
              "      const channel = await google.colab.kernel.comms.open(id);\n",
              "      // Send a message to notify the kernel that we're ready.\n",
              "      channel.send({})\n",
              "\n",
              "      for await (const message of channel.messages) {\n",
              "        // Send a message to notify the kernel that we're ready.\n",
              "        channel.send({})\n",
              "        if (message.buffers) {\n",
              "          for (const buffer of message.buffers) {\n",
              "            buffers.push(buffer);\n",
              "            downloaded += buffer.byteLength;\n",
              "            progress.value = downloaded;\n",
              "          }\n",
              "        }\n",
              "      }\n",
              "      const blob = new Blob(buffers, {type: 'application/binary'});\n",
              "      const a = document.createElement('a');\n",
              "      a.href = window.URL.createObjectURL(blob);\n",
              "      a.download = filename;\n",
              "      div.appendChild(a);\n",
              "      a.click();\n",
              "      div.remove();\n",
              "    }\n",
              "  "
            ]
          },
          "metadata": {}
        },
        {
          "output_type": "display_data",
          "data": {
            "text/plain": [
              "<IPython.core.display.Javascript object>"
            ],
            "application/javascript": [
              "download(\"download_9e057ead-7b08-41a6-b6a5-fbb30586e579\", \"cleaned_Books.csv\", 23634919)"
            ]
          },
          "metadata": {}
        },
        {
          "output_type": "display_data",
          "data": {
            "text/plain": [
              "<IPython.core.display.Javascript object>"
            ],
            "application/javascript": [
              "\n",
              "    async function download(id, filename, size) {\n",
              "      if (!google.colab.kernel.accessAllowed) {\n",
              "        return;\n",
              "      }\n",
              "      const div = document.createElement('div');\n",
              "      const label = document.createElement('label');\n",
              "      label.textContent = `Downloading \"${filename}\": `;\n",
              "      div.appendChild(label);\n",
              "      const progress = document.createElement('progress');\n",
              "      progress.max = size;\n",
              "      div.appendChild(progress);\n",
              "      document.body.appendChild(div);\n",
              "\n",
              "      const buffers = [];\n",
              "      let downloaded = 0;\n",
              "\n",
              "      const channel = await google.colab.kernel.comms.open(id);\n",
              "      // Send a message to notify the kernel that we're ready.\n",
              "      channel.send({})\n",
              "\n",
              "      for await (const message of channel.messages) {\n",
              "        // Send a message to notify the kernel that we're ready.\n",
              "        channel.send({})\n",
              "        if (message.buffers) {\n",
              "          for (const buffer of message.buffers) {\n",
              "            buffers.push(buffer);\n",
              "            downloaded += buffer.byteLength;\n",
              "            progress.value = downloaded;\n",
              "          }\n",
              "        }\n",
              "      }\n",
              "      const blob = new Blob(buffers, {type: 'application/binary'});\n",
              "      const a = document.createElement('a');\n",
              "      a.href = window.URL.createObjectURL(blob);\n",
              "      a.download = filename;\n",
              "      div.appendChild(a);\n",
              "      a.click();\n",
              "      div.remove();\n",
              "    }\n",
              "  "
            ]
          },
          "metadata": {}
        },
        {
          "output_type": "display_data",
          "data": {
            "text/plain": [
              "<IPython.core.display.Javascript object>"
            ],
            "application/javascript": [
              "download(\"download_4280dc5b-dd9c-4c11-bd2f-5d918b87cc4a\", \"cleaned_Users.csv\", 6367620)"
            ]
          },
          "metadata": {}
        }
      ]
    },
    {
      "cell_type": "code",
      "source": [
        "import pandas as pd\n",
        "from google.colab import files\n",
        "\n",
        "# Load the cleaned_Users.csv file\n",
        "try:\n",
        "    users_df = pd.read_csv('cleaned_Users.csv')\n",
        "except FileNotFoundError:\n",
        "    print(\"Error: 'cleaned_Users.csv' not found. Please run the previous cell to generate it.\")\n",
        "    exit()\n",
        "\n",
        "# Remove the existing 'number' column if it exists\n",
        "if 'number' in users_df.columns:\n",
        "    users_df = users_df.drop(columns=['number'])\n",
        "\n",
        "# Add 'number' column with all zeros at the beginning\n",
        "users_df.insert(0, 'number', 0)\n",
        "\n",
        "# Display the first few rows of the modified dataframe\n",
        "print(\"\\nUsers DataFrame with 'number' column:\")\n",
        "print(users_df.head())\n",
        "\n",
        "# Optional: Save the updated DataFrame to a new CSV\n",
        "users_df.to_csv('cleaned_Users_with_number.csv', index=False)\n",
        "\n",
        "# Optional: Download the updated file\n",
        "files.download('cleaned_Users_with_number.csv')"
      ],
      "metadata": {
        "colab": {
          "base_uri": "https://localhost:8080/",
          "height": 156
        },
        "id": "S6KppAMSq76K",
        "outputId": "9620045d-fd1c-43cb-b34e-22e501ba5ae4"
      },
      "execution_count": null,
      "outputs": [
        {
          "output_type": "stream",
          "name": "stdout",
          "text": [
            "\n",
            "Users DataFrame with 'number' column:\n",
            "   number  userid  age             country\n",
            "0       0       1    0       united states\n",
            "1       0       2   18       united states\n",
            "2       0       3    0  russian federation\n",
            "3       0       4   17            portugal\n",
            "4       0       5    0      united kingdom\n"
          ]
        },
        {
          "output_type": "display_data",
          "data": {
            "text/plain": [
              "<IPython.core.display.Javascript object>"
            ],
            "application/javascript": [
              "\n",
              "    async function download(id, filename, size) {\n",
              "      if (!google.colab.kernel.accessAllowed) {\n",
              "        return;\n",
              "      }\n",
              "      const div = document.createElement('div');\n",
              "      const label = document.createElement('label');\n",
              "      label.textContent = `Downloading \"${filename}\": `;\n",
              "      div.appendChild(label);\n",
              "      const progress = document.createElement('progress');\n",
              "      progress.max = size;\n",
              "      div.appendChild(progress);\n",
              "      document.body.appendChild(div);\n",
              "\n",
              "      const buffers = [];\n",
              "      let downloaded = 0;\n",
              "\n",
              "      const channel = await google.colab.kernel.comms.open(id);\n",
              "      // Send a message to notify the kernel that we're ready.\n",
              "      channel.send({})\n",
              "\n",
              "      for await (const message of channel.messages) {\n",
              "        // Send a message to notify the kernel that we're ready.\n",
              "        channel.send({})\n",
              "        if (message.buffers) {\n",
              "          for (const buffer of message.buffers) {\n",
              "            buffers.push(buffer);\n",
              "            downloaded += buffer.byteLength;\n",
              "            progress.value = downloaded;\n",
              "          }\n",
              "        }\n",
              "      }\n",
              "      const blob = new Blob(buffers, {type: 'application/binary'});\n",
              "      const a = document.createElement('a');\n",
              "      a.href = window.URL.createObjectURL(blob);\n",
              "      a.download = filename;\n",
              "      div.appendChild(a);\n",
              "      a.click();\n",
              "      div.remove();\n",
              "    }\n",
              "  "
            ]
          },
          "metadata": {}
        },
        {
          "output_type": "display_data",
          "data": {
            "text/plain": [
              "<IPython.core.display.Javascript object>"
            ],
            "application/javascript": [
              "download(\"download_1050b6c5-d2c5-414a-8eb4-c0aac33c6acb\", \"cleaned_Users_with_number.csv\", 6367620)"
            ]
          },
          "metadata": {}
        }
      ]
    },
    {
      "cell_type": "code",
      "source": [
        "import pandas as pd\n",
        "\n",
        "# Load the cleaned_Books.csv file\n",
        "try:\n",
        "    cleaned_books_df = pd.read_csv('cleaned_Books.csv')\n",
        "except FileNotFoundError:\n",
        "    print(\"Error: 'cleaned_Books.csv' not found. Please run the previous cell to generate it.\")\n",
        "    exit()\n",
        "\n",
        "# Check for blank values in the 'yearsofpublication' column\n",
        "blank_years = cleaned_books_df[cleaned_books_df['yearofpublication'].isnull()]\n",
        "\n",
        "print(\"\\nRows with blank 'yearofpublication':\")\n",
        "if blank_years.empty:\n",
        "    print(\"No blank values found in 'yearofpublication'.\")\n",
        "else:\n",
        "    print(blank_years)\n",
        "    print(f\"\\nNumber of rows with blank 'yearofpublication': {len(blank_years)}\")"
      ],
      "metadata": {
        "colab": {
          "base_uri": "https://localhost:8080/"
        },
        "id": "OzYDDlZd8VGz",
        "outputId": "332e4d8d-3103-4c1a-f51b-bb29d1c34fe3"
      },
      "execution_count": null,
      "outputs": [
        {
          "output_type": "stream",
          "name": "stdout",
          "text": [
            "\n",
            "Rows with blank 'yearofpublication':\n",
            "          isbn booktitle          bookauthor yearofpublication publisher\n",
            "271360  userid       age             country               NaN       NaN\n",
            "271361       1         0       united states               NaN       NaN\n",
            "271362       2        18       united states               NaN       NaN\n",
            "271363       3         0  russian federation               NaN       NaN\n",
            "271364       4        17            portugal               NaN       NaN\n",
            "...        ...       ...                 ...               ...       ...\n",
            "550215  278855        50      united kingdom               NaN       NaN\n",
            "550216  278856         0              canada               NaN       NaN\n",
            "550217  278857         0       united states               NaN       NaN\n",
            "550218  278858         0             ireland               NaN       NaN\n",
            "550219  userid       age             country               NaN       NaN\n",
            "\n",
            "[278860 rows x 5 columns]\n",
            "\n",
            "Number of rows with blank 'yearofpublication': 278860\n"
          ]
        },
        {
          "output_type": "stream",
          "name": "stderr",
          "text": [
            "/tmp/ipython-input-3-2706925156.py:7: DtypeWarning: Columns (0,1,3,4) have mixed types. Specify dtype option on import or set low_memory=False.\n",
            "  cleaned_books_df = pd.read_csv('cleaned_Books.csv')\n"
          ]
        }
      ]
    },
    {
      "cell_type": "code",
      "source": [
        "import pandas as pd\n",
        "from google.colab import files\n",
        "\n",
        "# Load the cleaned_Books.csv file\n",
        "try:\n",
        "    cleaned_books_df = pd.read_csv('cleaned_Books.csv')\n",
        "except FileNotFoundError:\n",
        "    print(\"Error: 'cleaned_Books.csv' not found. Please run the previous cell to generate it.\")\n",
        "    exit()\n",
        "\n",
        "# Remove rows where 'yearofpublication' is blank (NaN)\n",
        "cleaned_books_df = cleaned_books_df.dropna(subset=['yearofpublication'])\n",
        "\n",
        "# Convert 'yearofpublication' to integer. Errors will occur if there are non-integer values.\n",
        "# We will handle errors by coercing invalid values to NaN and then dropping those rows.\n",
        "cleaned_books_df['yearofpublication'] = pd.to_numeric(cleaned_books_df['yearofpublication'], errors='coerce')\n",
        "\n",
        "# Drop rows where the conversion to numeric resulted in NaN (non-integer values)\n",
        "cleaned_books_df = cleaned_books_df.dropna(subset=['yearofpublication'])\n",
        "\n",
        "# Now, convert to integer type\n",
        "cleaned_books_df['yearofpublication'] = cleaned_books_df['yearofpublication'].astype(int)\n",
        "\n",
        "\n",
        "# Display the first few rows of the modified dataframe to check the changes\n",
        "print(\"\\nCleaned Books DataFrame after handling 'yearofpublication':\")\n",
        "print(cleaned_books_df.head())\n",
        "print(\"\\nData type of 'yearofpublication' column:\", cleaned_books_df['yearofpublication'].dtype)\n",
        "print(f\"\\nNumber of rows after cleaning: {len(cleaned_books_df)}\")\n",
        "\n",
        "\n",
        "# Save the cleaned DataFrame to a new CSV\n",
        "cleaned_books_df.to_csv('cleaned_Books_processed_year.csv', index=False)\n",
        "\n",
        "# Download the updated file\n",
        "files.download('cleaned_Books_processed_year.csv')"
      ],
      "metadata": {
        "colab": {
          "base_uri": "https://localhost:8080/",
          "height": 629
        },
        "id": "37QtGEew85GI",
        "outputId": "cd451f56-af71-4122-cc2b-1871ec400862"
      },
      "execution_count": null,
      "outputs": [
        {
          "output_type": "stream",
          "name": "stderr",
          "text": [
            "/tmp/ipython-input-5-930056159.py:14: SettingWithCopyWarning: \n",
            "A value is trying to be set on a copy of a slice from a DataFrame.\n",
            "Try using .loc[row_indexer,col_indexer] = value instead\n",
            "\n",
            "See the caveats in the documentation: https://pandas.pydata.org/pandas-docs/stable/user_guide/indexing.html#returning-a-view-versus-a-copy\n",
            "  cleaned_books_df['yearofpublication'] = cleaned_books_df['yearofpublication'].astype(int)\n"
          ]
        },
        {
          "output_type": "stream",
          "name": "stdout",
          "text": [
            "\n",
            "Cleaned Books DataFrame after handling 'yearofpublication':\n",
            "         isbn                                          booktitle  \\\n",
            "0  0195153448                                classical mythology   \n",
            "1  0002005018                                       clara callan   \n",
            "2  0060973129                               decision in normandy   \n",
            "3  0374157065  flu: the story of the great influenza pandemic...   \n",
            "4  0393045218                             the mummies of urumchi   \n",
            "\n",
            "             bookauthor  yearofpublication                   publisher  \n",
            "0    mark p. o. morford               2002     oxford university press  \n",
            "1  richard bruce wright               2001       harperflamingo canada  \n",
            "2          carlo d'este               1991             harperperennial  \n",
            "3      gina bari kolata               1999        farrar straus giroux  \n",
            "4       e. j. w. barber               1999  w. w. norton &amp; company  \n",
            "\n",
            "Data type of 'yearofpublication' column: int64\n",
            "\n",
            "Number of rows after cleaning: 271357\n"
          ]
        },
        {
          "output_type": "error",
          "ename": "NameError",
          "evalue": "name 'files' is not defined",
          "traceback": [
            "\u001b[0;31m---------------------------------------------------------------------------\u001b[0m",
            "\u001b[0;31mNameError\u001b[0m                                 Traceback (most recent call last)",
            "\u001b[0;32m/tmp/ipython-input-5-930056159.py\u001b[0m in \u001b[0;36m<cell line: 0>\u001b[0;34m()\u001b[0m\n\u001b[1;32m     26\u001b[0m \u001b[0;34m\u001b[0m\u001b[0m\n\u001b[1;32m     27\u001b[0m \u001b[0;31m# Download the updated file\u001b[0m\u001b[0;34m\u001b[0m\u001b[0;34m\u001b[0m\u001b[0m\n\u001b[0;32m---> 28\u001b[0;31m \u001b[0mfiles\u001b[0m\u001b[0;34m.\u001b[0m\u001b[0mdownload\u001b[0m\u001b[0;34m(\u001b[0m\u001b[0;34m'cleaned_Books_processed_year.csv'\u001b[0m\u001b[0;34m)\u001b[0m\u001b[0;34m\u001b[0m\u001b[0;34m\u001b[0m\u001b[0m\n\u001b[0m",
            "\u001b[0;31mNameError\u001b[0m: name 'files' is not defined"
          ]
        }
      ]
    },
    {
      "cell_type": "code",
      "source": [
        "import pandas as pd\n",
        "from google.colab import files\n",
        "\n",
        "# Load the cleaned_Users.csv file\n",
        "try:\n",
        "    users_df = pd.read_csv('cleaned_Users.csv')\n",
        "except FileNotFoundError:\n",
        "    print(\"Error: 'cleaned_Users.csv' not found. Please run the previous cell to generate it.\")\n",
        "    exit()\n",
        "\n",
        "# Remove the last row which seems to be a duplicate header\n",
        "users_df = users_df.iloc[:-1].copy()\n",
        "\n",
        "# Convert 'userid' to numeric, coercing errors\n",
        "users_df['userid'] = pd.to_numeric(users_df['userid'], errors='coerce')\n",
        "\n",
        "# Drop any rows where 'userid' could not be converted (optional, but good practice)\n",
        "users_df = users_df.dropna(subset=['userid'])\n",
        "\n",
        "# Convert 'userid' to integer\n",
        "users_df['userid'] = users_df['userid'].astype(int)\n",
        "\n",
        "# Define the user ID threshold\n",
        "threshold_userid = 278858\n",
        "\n",
        "# Filter the DataFrame to keep rows where 'userid' is less than or equal to the threshold\n",
        "users_df_filtered = users_df[users_df['userid'] <= threshold_userid].copy()\n",
        "\n",
        "# Display the first few rows of the filtered dataframe\n",
        "print(f\"\\nUsers DataFrame filtered to include users with userid <= {threshold_userid}:\")\n",
        "print(users_df_filtered.head())\n",
        "print(f\"\\nNumber of rows after filtering: {len(users_df_filtered)}\")\n",
        "\n",
        "# Optional: Save the filtered DataFrame to a new CSV\n",
        "users_df_filtered.to_csv('cleaned_Users_filtered.csv', index=False)\n",
        "\n",
        "# Optional: Download the updated file\n",
        "files.download('cleaned_Users_filtered.csv')"
      ],
      "metadata": {
        "colab": {
          "base_uri": "https://localhost:8080/",
          "height": 245
        },
        "id": "9rQL2AFI_H1i",
        "outputId": "e7e3815d-8d48-4c7b-bf11-4d409c3358e7"
      },
      "execution_count": null,
      "outputs": [
        {
          "output_type": "stream",
          "name": "stderr",
          "text": [
            "/tmp/ipython-input-8-2882970317.py:8: DtypeWarning: Columns (0,1) have mixed types. Specify dtype option on import or set low_memory=False.\n",
            "  users_df = pd.read_csv('cleaned_Users.csv')\n"
          ]
        },
        {
          "output_type": "stream",
          "name": "stdout",
          "text": [
            "\n",
            "Users DataFrame filtered to include users with userid <= 278858:\n",
            "   userid age             country\n",
            "0       1   0       united states\n",
            "1       2  18       united states\n",
            "2       3   0  russian federation\n",
            "3       4  17            portugal\n",
            "4       5   0      united kingdom\n",
            "\n",
            "Number of rows after filtering: 278858\n"
          ]
        },
        {
          "output_type": "display_data",
          "data": {
            "text/plain": [
              "<IPython.core.display.Javascript object>"
            ],
            "application/javascript": [
              "\n",
              "    async function download(id, filename, size) {\n",
              "      if (!google.colab.kernel.accessAllowed) {\n",
              "        return;\n",
              "      }\n",
              "      const div = document.createElement('div');\n",
              "      const label = document.createElement('label');\n",
              "      label.textContent = `Downloading \"${filename}\": `;\n",
              "      div.appendChild(label);\n",
              "      const progress = document.createElement('progress');\n",
              "      progress.max = size;\n",
              "      div.appendChild(progress);\n",
              "      document.body.appendChild(div);\n",
              "\n",
              "      const buffers = [];\n",
              "      let downloaded = 0;\n",
              "\n",
              "      const channel = await google.colab.kernel.comms.open(id);\n",
              "      // Send a message to notify the kernel that we're ready.\n",
              "      channel.send({})\n",
              "\n",
              "      for await (const message of channel.messages) {\n",
              "        // Send a message to notify the kernel that we're ready.\n",
              "        channel.send({})\n",
              "        if (message.buffers) {\n",
              "          for (const buffer of message.buffers) {\n",
              "            buffers.push(buffer);\n",
              "            downloaded += buffer.byteLength;\n",
              "            progress.value = downloaded;\n",
              "          }\n",
              "        }\n",
              "      }\n",
              "      const blob = new Blob(buffers, {type: 'application/binary'});\n",
              "      const a = document.createElement('a');\n",
              "      a.href = window.URL.createObjectURL(blob);\n",
              "      a.download = filename;\n",
              "      div.appendChild(a);\n",
              "      a.click();\n",
              "      div.remove();\n",
              "    }\n",
              "  "
            ]
          },
          "metadata": {}
        },
        {
          "output_type": "display_data",
          "data": {
            "text/plain": [
              "<IPython.core.display.Javascript object>"
            ],
            "application/javascript": [
              "download(\"download_4c788fef-a445-48a5-b576-06b25d51b325\", \"cleaned_Users_filtered.csv\", 5809897)"
            ]
          },
          "metadata": {}
        }
      ]
    }
  ]
}